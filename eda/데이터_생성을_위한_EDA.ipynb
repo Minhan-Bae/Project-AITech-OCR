{
  "nbformat": 4,
  "nbformat_minor": 0,
  "metadata": {
    "colab": {
      "name": "데이터 생성을 위한 EDA.ipynb",
      "provenance": [],
      "collapsed_sections": []
    },
    "kernelspec": {
      "name": "python3",
      "display_name": "Python 3"
    },
    "language_info": {
      "name": "python"
    }
  },
  "cells": [
    {
      "cell_type": "markdown",
      "source": [
        "# 데이터 생성을 위한 EDA"
      ],
      "metadata": {
        "id": "vjB3zK41JZ9-"
      }
    },
    {
      "cell_type": "code",
      "source": [
        "import seaborn as sns\n",
        "import numpy as np\n",
        "import matplotlib.pyplot as plt"
      ],
      "metadata": {
        "id": "Z_4FxYjRQq43"
      },
      "execution_count": null,
      "outputs": []
    },
    {
      "cell_type": "code",
      "source": [
        "last_df = pd.read_csv(\"../data/STR_Collect_128.csv\")"
      ],
      "metadata": {
        "id": "dzRxaRD_OWEQ"
      },
      "execution_count": null,
      "outputs": []
    },
    {
      "cell_type": "markdown",
      "source": [
        "## 이미지/글자/촬영 상태"
      ],
      "metadata": {
        "id": "v5kFr-rvUxfs"
      }
    },
    {
      "cell_type": "code",
      "source": [
        "last_df.groupby(['status']).count()"
      ],
      "metadata": {
        "colab": {
          "base_uri": "https://localhost:8080/",
          "height": 206
        },
        "id": "HoI_w6_LXGSR",
        "outputId": "35ee98ea-ae68-4678-94c6-f4db84331e4c"
      },
      "execution_count": null,
      "outputs": [
        {
          "output_type": "execute_result",
          "data": {
            "text/html": [
              "<div>\n",
              "<style scoped>\n",
              "    .dataframe tbody tr th:only-of-type {\n",
              "        vertical-align: middle;\n",
              "    }\n",
              "\n",
              "    .dataframe tbody tr th {\n",
              "        vertical-align: top;\n",
              "    }\n",
              "\n",
              "    .dataframe thead th {\n",
              "        text-align: right;\n",
              "    }\n",
              "</style>\n",
              "<table border=\"1\" class=\"dataframe\">\n",
              "  <thead>\n",
              "    <tr style=\"text-align: right;\">\n",
              "      <th></th>\n",
              "      <th>file_name</th>\n",
              "      <th>file_size</th>\n",
              "      <th>product_no</th>\n",
              "      <th>letter</th>\n",
              "      <th>environment</th>\n",
              "      <th>image_w</th>\n",
              "      <th>image_h</th>\n",
              "      <th>product_no_len</th>\n",
              "    </tr>\n",
              "    <tr>\n",
              "      <th>status</th>\n",
              "      <th></th>\n",
              "      <th></th>\n",
              "      <th></th>\n",
              "      <th></th>\n",
              "      <th></th>\n",
              "      <th></th>\n",
              "      <th></th>\n",
              "      <th></th>\n",
              "    </tr>\n",
              "  </thead>\n",
              "  <tbody>\n",
              "    <tr>\n",
              "      <th>Diagonal</th>\n",
              "      <td>39</td>\n",
              "      <td>38</td>\n",
              "      <td>39</td>\n",
              "      <td>39</td>\n",
              "      <td>39</td>\n",
              "      <td>39</td>\n",
              "      <td>39</td>\n",
              "      <td>39</td>\n",
              "    </tr>\n",
              "    <tr>\n",
              "      <th>Horizontal</th>\n",
              "      <td>75</td>\n",
              "      <td>75</td>\n",
              "      <td>75</td>\n",
              "      <td>75</td>\n",
              "      <td>75</td>\n",
              "      <td>75</td>\n",
              "      <td>75</td>\n",
              "      <td>75</td>\n",
              "    </tr>\n",
              "    <tr>\n",
              "      <th>Left_Rot</th>\n",
              "      <td>7</td>\n",
              "      <td>7</td>\n",
              "      <td>7</td>\n",
              "      <td>7</td>\n",
              "      <td>7</td>\n",
              "      <td>7</td>\n",
              "      <td>7</td>\n",
              "      <td>7</td>\n",
              "    </tr>\n",
              "    <tr>\n",
              "      <th>Right_Rot</th>\n",
              "      <td>7</td>\n",
              "      <td>7</td>\n",
              "      <td>7</td>\n",
              "      <td>7</td>\n",
              "      <td>7</td>\n",
              "      <td>7</td>\n",
              "      <td>7</td>\n",
              "      <td>7</td>\n",
              "    </tr>\n",
              "  </tbody>\n",
              "</table>\n",
              "</div>"
            ],
            "text/plain": [
              "            file_name  file_size  product_no  ...  image_w  image_h  product_no_len\n",
              "status                                        ...                                  \n",
              "Diagonal           39         38          39  ...       39       39              39\n",
              "Horizontal         75         75          75  ...       75       75              75\n",
              "Left_Rot            7          7           7  ...        7        7               7\n",
              "Right_Rot           7          7           7  ...        7        7               7\n",
              "\n",
              "[4 rows x 8 columns]"
            ]
          },
          "metadata": {},
          "execution_count": 659
        }
      ]
    },
    {
      "cell_type": "code",
      "source": [
        "last_df.groupby(['letter']).count()"
      ],
      "metadata": {
        "colab": {
          "base_uri": "https://localhost:8080/",
          "height": 206
        },
        "id": "rakRykyKXI9U",
        "outputId": "e39a4669-269c-4458-adc8-763b957cc7c5"
      },
      "execution_count": null,
      "outputs": [
        {
          "output_type": "execute_result",
          "data": {
            "text/html": [
              "<div>\n",
              "<style scoped>\n",
              "    .dataframe tbody tr th:only-of-type {\n",
              "        vertical-align: middle;\n",
              "    }\n",
              "\n",
              "    .dataframe tbody tr th {\n",
              "        vertical-align: top;\n",
              "    }\n",
              "\n",
              "    .dataframe thead th {\n",
              "        text-align: right;\n",
              "    }\n",
              "</style>\n",
              "<table border=\"1\" class=\"dataframe\">\n",
              "  <thead>\n",
              "    <tr style=\"text-align: right;\">\n",
              "      <th></th>\n",
              "      <th>file_name</th>\n",
              "      <th>file_size</th>\n",
              "      <th>product_no</th>\n",
              "      <th>status</th>\n",
              "      <th>environment</th>\n",
              "      <th>image_w</th>\n",
              "      <th>image_h</th>\n",
              "      <th>product_no_len</th>\n",
              "    </tr>\n",
              "    <tr>\n",
              "      <th>letter</th>\n",
              "      <th></th>\n",
              "      <th></th>\n",
              "      <th></th>\n",
              "      <th></th>\n",
              "      <th></th>\n",
              "      <th></th>\n",
              "      <th></th>\n",
              "      <th></th>\n",
              "    </tr>\n",
              "  </thead>\n",
              "  <tbody>\n",
              "    <tr>\n",
              "      <th>Blur</th>\n",
              "      <td>18</td>\n",
              "      <td>18</td>\n",
              "      <td>18</td>\n",
              "      <td>18</td>\n",
              "      <td>18</td>\n",
              "      <td>18</td>\n",
              "      <td>18</td>\n",
              "      <td>18</td>\n",
              "    </tr>\n",
              "    <tr>\n",
              "      <th>Clear</th>\n",
              "      <td>92</td>\n",
              "      <td>91</td>\n",
              "      <td>92</td>\n",
              "      <td>92</td>\n",
              "      <td>92</td>\n",
              "      <td>92</td>\n",
              "      <td>92</td>\n",
              "      <td>92</td>\n",
              "    </tr>\n",
              "    <tr>\n",
              "      <th>Dirty</th>\n",
              "      <td>1</td>\n",
              "      <td>1</td>\n",
              "      <td>1</td>\n",
              "      <td>1</td>\n",
              "      <td>1</td>\n",
              "      <td>1</td>\n",
              "      <td>1</td>\n",
              "      <td>1</td>\n",
              "    </tr>\n",
              "    <tr>\n",
              "      <th>Tilted</th>\n",
              "      <td>17</td>\n",
              "      <td>17</td>\n",
              "      <td>17</td>\n",
              "      <td>17</td>\n",
              "      <td>17</td>\n",
              "      <td>17</td>\n",
              "      <td>17</td>\n",
              "      <td>17</td>\n",
              "    </tr>\n",
              "  </tbody>\n",
              "</table>\n",
              "</div>"
            ],
            "text/plain": [
              "        file_name  file_size  product_no  ...  image_w  image_h  product_no_len\n",
              "letter                                    ...                                  \n",
              "Blur           18         18          18  ...       18       18              18\n",
              "Clear          92         91          92  ...       92       92              92\n",
              "Dirty           1          1           1  ...        1        1               1\n",
              "Tilted         17         17          17  ...       17       17              17\n",
              "\n",
              "[4 rows x 8 columns]"
            ]
          },
          "metadata": {},
          "execution_count": 660
        }
      ]
    },
    {
      "cell_type": "code",
      "source": [
        "last_df.groupby(['environment']).count()"
      ],
      "metadata": {
        "colab": {
          "base_uri": "https://localhost:8080/",
          "height": 175
        },
        "id": "Ep7EIqdUXJ5Y",
        "outputId": "e1948f04-1707-4d23-ea9f-6766ab69c98f"
      },
      "execution_count": null,
      "outputs": [
        {
          "output_type": "execute_result",
          "data": {
            "text/html": [
              "<div>\n",
              "<style scoped>\n",
              "    .dataframe tbody tr th:only-of-type {\n",
              "        vertical-align: middle;\n",
              "    }\n",
              "\n",
              "    .dataframe tbody tr th {\n",
              "        vertical-align: top;\n",
              "    }\n",
              "\n",
              "    .dataframe thead th {\n",
              "        text-align: right;\n",
              "    }\n",
              "</style>\n",
              "<table border=\"1\" class=\"dataframe\">\n",
              "  <thead>\n",
              "    <tr style=\"text-align: right;\">\n",
              "      <th></th>\n",
              "      <th>file_name</th>\n",
              "      <th>file_size</th>\n",
              "      <th>product_no</th>\n",
              "      <th>status</th>\n",
              "      <th>letter</th>\n",
              "      <th>image_w</th>\n",
              "      <th>image_h</th>\n",
              "      <th>product_no_len</th>\n",
              "    </tr>\n",
              "    <tr>\n",
              "      <th>environment</th>\n",
              "      <th></th>\n",
              "      <th></th>\n",
              "      <th></th>\n",
              "      <th></th>\n",
              "      <th></th>\n",
              "      <th></th>\n",
              "      <th></th>\n",
              "      <th></th>\n",
              "    </tr>\n",
              "  </thead>\n",
              "  <tbody>\n",
              "    <tr>\n",
              "      <th>Clear</th>\n",
              "      <td>115</td>\n",
              "      <td>114</td>\n",
              "      <td>115</td>\n",
              "      <td>115</td>\n",
              "      <td>115</td>\n",
              "      <td>115</td>\n",
              "      <td>115</td>\n",
              "      <td>115</td>\n",
              "    </tr>\n",
              "    <tr>\n",
              "      <th>Reflection</th>\n",
              "      <td>6</td>\n",
              "      <td>6</td>\n",
              "      <td>6</td>\n",
              "      <td>6</td>\n",
              "      <td>6</td>\n",
              "      <td>6</td>\n",
              "      <td>6</td>\n",
              "      <td>6</td>\n",
              "    </tr>\n",
              "    <tr>\n",
              "      <th>Shadow</th>\n",
              "      <td>7</td>\n",
              "      <td>7</td>\n",
              "      <td>7</td>\n",
              "      <td>7</td>\n",
              "      <td>7</td>\n",
              "      <td>7</td>\n",
              "      <td>7</td>\n",
              "      <td>7</td>\n",
              "    </tr>\n",
              "  </tbody>\n",
              "</table>\n",
              "</div>"
            ],
            "text/plain": [
              "             file_name  file_size  product_no  ...  image_w  image_h  product_no_len\n",
              "environment                                    ...                                  \n",
              "Clear              115        114         115  ...      115      115             115\n",
              "Reflection           6          6           6  ...        6        6               6\n",
              "Shadow               7          7           7  ...        7        7               7\n",
              "\n",
              "[3 rows x 8 columns]"
            ]
          },
          "metadata": {},
          "execution_count": 661
        }
      ]
    },
    {
      "cell_type": "code",
      "source": [
        "last_df.groupby(['status', 'letter', 'environment']).count()"
      ],
      "metadata": {
        "colab": {
          "base_uri": "https://localhost:8080/",
          "height": 677
        },
        "id": "wACQMYOBU3_a",
        "outputId": "b9388cfc-dd51-45c5-e348-5805533ac174"
      },
      "execution_count": null,
      "outputs": [
        {
          "output_type": "execute_result",
          "data": {
            "text/html": [
              "<div>\n",
              "<style scoped>\n",
              "    .dataframe tbody tr th:only-of-type {\n",
              "        vertical-align: middle;\n",
              "    }\n",
              "\n",
              "    .dataframe tbody tr th {\n",
              "        vertical-align: top;\n",
              "    }\n",
              "\n",
              "    .dataframe thead th {\n",
              "        text-align: right;\n",
              "    }\n",
              "</style>\n",
              "<table border=\"1\" class=\"dataframe\">\n",
              "  <thead>\n",
              "    <tr style=\"text-align: right;\">\n",
              "      <th></th>\n",
              "      <th></th>\n",
              "      <th></th>\n",
              "      <th>file_name</th>\n",
              "      <th>file_size</th>\n",
              "      <th>product_no</th>\n",
              "      <th>image_w</th>\n",
              "      <th>image_h</th>\n",
              "      <th>product_no_len</th>\n",
              "    </tr>\n",
              "    <tr>\n",
              "      <th>status</th>\n",
              "      <th>letter</th>\n",
              "      <th>environment</th>\n",
              "      <th></th>\n",
              "      <th></th>\n",
              "      <th></th>\n",
              "      <th></th>\n",
              "      <th></th>\n",
              "      <th></th>\n",
              "    </tr>\n",
              "  </thead>\n",
              "  <tbody>\n",
              "    <tr>\n",
              "      <th rowspan=\"4\" valign=\"top\">Diagonal</th>\n",
              "      <th rowspan=\"2\" valign=\"top\">Blur</th>\n",
              "      <th>Clear</th>\n",
              "      <td>6</td>\n",
              "      <td>6</td>\n",
              "      <td>6</td>\n",
              "      <td>6</td>\n",
              "      <td>6</td>\n",
              "      <td>6</td>\n",
              "    </tr>\n",
              "    <tr>\n",
              "      <th>Shadow</th>\n",
              "      <td>1</td>\n",
              "      <td>1</td>\n",
              "      <td>1</td>\n",
              "      <td>1</td>\n",
              "      <td>1</td>\n",
              "      <td>1</td>\n",
              "    </tr>\n",
              "    <tr>\n",
              "      <th>Clear</th>\n",
              "      <th>Clear</th>\n",
              "      <td>31</td>\n",
              "      <td>30</td>\n",
              "      <td>31</td>\n",
              "      <td>31</td>\n",
              "      <td>31</td>\n",
              "      <td>31</td>\n",
              "    </tr>\n",
              "    <tr>\n",
              "      <th>Dirty</th>\n",
              "      <th>Clear</th>\n",
              "      <td>1</td>\n",
              "      <td>1</td>\n",
              "      <td>1</td>\n",
              "      <td>1</td>\n",
              "      <td>1</td>\n",
              "      <td>1</td>\n",
              "    </tr>\n",
              "    <tr>\n",
              "      <th rowspan=\"6\" valign=\"top\">Horizontal</th>\n",
              "      <th rowspan=\"2\" valign=\"top\">Blur</th>\n",
              "      <th>Clear</th>\n",
              "      <td>4</td>\n",
              "      <td>4</td>\n",
              "      <td>4</td>\n",
              "      <td>4</td>\n",
              "      <td>4</td>\n",
              "      <td>4</td>\n",
              "    </tr>\n",
              "    <tr>\n",
              "      <th>Shadow</th>\n",
              "      <td>2</td>\n",
              "      <td>2</td>\n",
              "      <td>2</td>\n",
              "      <td>2</td>\n",
              "      <td>2</td>\n",
              "      <td>2</td>\n",
              "    </tr>\n",
              "    <tr>\n",
              "      <th rowspan=\"2\" valign=\"top\">Clear</th>\n",
              "      <th>Clear</th>\n",
              "      <td>55</td>\n",
              "      <td>55</td>\n",
              "      <td>55</td>\n",
              "      <td>55</td>\n",
              "      <td>55</td>\n",
              "      <td>55</td>\n",
              "    </tr>\n",
              "    <tr>\n",
              "      <th>Reflection</th>\n",
              "      <td>3</td>\n",
              "      <td>3</td>\n",
              "      <td>3</td>\n",
              "      <td>3</td>\n",
              "      <td>3</td>\n",
              "      <td>3</td>\n",
              "    </tr>\n",
              "    <tr>\n",
              "      <th rowspan=\"2\" valign=\"top\">Tilted</th>\n",
              "      <th>Clear</th>\n",
              "      <td>8</td>\n",
              "      <td>8</td>\n",
              "      <td>8</td>\n",
              "      <td>8</td>\n",
              "      <td>8</td>\n",
              "      <td>8</td>\n",
              "    </tr>\n",
              "    <tr>\n",
              "      <th>Reflection</th>\n",
              "      <td>3</td>\n",
              "      <td>3</td>\n",
              "      <td>3</td>\n",
              "      <td>3</td>\n",
              "      <td>3</td>\n",
              "      <td>3</td>\n",
              "    </tr>\n",
              "    <tr>\n",
              "      <th rowspan=\"5\" valign=\"top\">Left_Rot</th>\n",
              "      <th rowspan=\"2\" valign=\"top\">Blur</th>\n",
              "      <th>Clear</th>\n",
              "      <td>1</td>\n",
              "      <td>1</td>\n",
              "      <td>1</td>\n",
              "      <td>1</td>\n",
              "      <td>1</td>\n",
              "      <td>1</td>\n",
              "    </tr>\n",
              "    <tr>\n",
              "      <th>Shadow</th>\n",
              "      <td>2</td>\n",
              "      <td>2</td>\n",
              "      <td>2</td>\n",
              "      <td>2</td>\n",
              "      <td>2</td>\n",
              "      <td>2</td>\n",
              "    </tr>\n",
              "    <tr>\n",
              "      <th>Clear</th>\n",
              "      <th>Clear</th>\n",
              "      <td>1</td>\n",
              "      <td>1</td>\n",
              "      <td>1</td>\n",
              "      <td>1</td>\n",
              "      <td>1</td>\n",
              "      <td>1</td>\n",
              "    </tr>\n",
              "    <tr>\n",
              "      <th rowspan=\"2\" valign=\"top\">Tilted</th>\n",
              "      <th>Clear</th>\n",
              "      <td>2</td>\n",
              "      <td>2</td>\n",
              "      <td>2</td>\n",
              "      <td>2</td>\n",
              "      <td>2</td>\n",
              "      <td>2</td>\n",
              "    </tr>\n",
              "    <tr>\n",
              "      <th>Shadow</th>\n",
              "      <td>1</td>\n",
              "      <td>1</td>\n",
              "      <td>1</td>\n",
              "      <td>1</td>\n",
              "      <td>1</td>\n",
              "      <td>1</td>\n",
              "    </tr>\n",
              "    <tr>\n",
              "      <th rowspan=\"4\" valign=\"top\">Right_Rot</th>\n",
              "      <th rowspan=\"2\" valign=\"top\">Blur</th>\n",
              "      <th>Clear</th>\n",
              "      <td>1</td>\n",
              "      <td>1</td>\n",
              "      <td>1</td>\n",
              "      <td>1</td>\n",
              "      <td>1</td>\n",
              "      <td>1</td>\n",
              "    </tr>\n",
              "    <tr>\n",
              "      <th>Shadow</th>\n",
              "      <td>1</td>\n",
              "      <td>1</td>\n",
              "      <td>1</td>\n",
              "      <td>1</td>\n",
              "      <td>1</td>\n",
              "      <td>1</td>\n",
              "    </tr>\n",
              "    <tr>\n",
              "      <th>Clear</th>\n",
              "      <th>Clear</th>\n",
              "      <td>2</td>\n",
              "      <td>2</td>\n",
              "      <td>2</td>\n",
              "      <td>2</td>\n",
              "      <td>2</td>\n",
              "      <td>2</td>\n",
              "    </tr>\n",
              "    <tr>\n",
              "      <th>Tilted</th>\n",
              "      <th>Clear</th>\n",
              "      <td>3</td>\n",
              "      <td>3</td>\n",
              "      <td>3</td>\n",
              "      <td>3</td>\n",
              "      <td>3</td>\n",
              "      <td>3</td>\n",
              "    </tr>\n",
              "  </tbody>\n",
              "</table>\n",
              "</div>"
            ],
            "text/plain": [
              "                               file_name  file_size  ...  image_h  product_no_len\n",
              "status     letter environment                        ...                         \n",
              "Diagonal   Blur   Clear                6          6  ...        6               6\n",
              "                  Shadow               1          1  ...        1               1\n",
              "           Clear  Clear               31         30  ...       31              31\n",
              "           Dirty  Clear                1          1  ...        1               1\n",
              "Horizontal Blur   Clear                4          4  ...        4               4\n",
              "                  Shadow               2          2  ...        2               2\n",
              "           Clear  Clear               55         55  ...       55              55\n",
              "                  Reflection           3          3  ...        3               3\n",
              "           Tilted Clear                8          8  ...        8               8\n",
              "                  Reflection           3          3  ...        3               3\n",
              "Left_Rot   Blur   Clear                1          1  ...        1               1\n",
              "                  Shadow               2          2  ...        2               2\n",
              "           Clear  Clear                1          1  ...        1               1\n",
              "           Tilted Clear                2          2  ...        2               2\n",
              "                  Shadow               1          1  ...        1               1\n",
              "Right_Rot  Blur   Clear                1          1  ...        1               1\n",
              "                  Shadow               1          1  ...        1               1\n",
              "           Clear  Clear                2          2  ...        2               2\n",
              "           Tilted Clear                3          3  ...        3               3\n",
              "\n",
              "[19 rows x 6 columns]"
            ]
          },
          "metadata": {},
          "execution_count": 658
        }
      ]
    },
    {
      "cell_type": "markdown",
      "source": [
        "## 이미지 가로, 세로 "
      ],
      "metadata": {
        "id": "ql3oE97YS3Gn"
      }
    },
    {
      "cell_type": "markdown",
      "source": [
        "### Joint Plot"
      ],
      "metadata": {
        "id": "AtOY3y4-TQ5u"
      }
    },
    {
      "cell_type": "code",
      "source": [
        "sns.jointplot(x=\"image_w\", y=\"image_h\", data=last_df)\n",
        "plt.suptitle(\"image weight, height Joint Plot\", y=1.02)\n",
        "plt.show()"
      ],
      "metadata": {
        "colab": {
          "base_uri": "https://localhost:8080/",
          "height": 461
        },
        "id": "JfgNypj9Q2Dk",
        "outputId": "a2cb1c80-399a-4e54-afa7-9815bc5e98b6"
      },
      "execution_count": null,
      "outputs": [
        {
          "output_type": "display_data",
          "data": {
            "image/png": "[encoded data removed]",
            "text/plain": [
              "<Figure size 432x432 with 3 Axes>"
            ]
          },
          "metadata": {
            "needs_background": "light"
          }
        }
      ]
    },
    {
      "cell_type": "markdown",
      "source": [
        "### 통계치"
      ],
      "metadata": {
        "id": "jZdvVoN8TSLE"
      }
    },
    {
      "cell_type": "code",
      "source": [
        "arr_h = []\n",
        "arr_w = []\n",
        "for h, w in zip(last_df['image_h'], last_df['image_w']):\n",
        "    arr_h.append(h)\n",
        "    arr_w.append(w)"
      ],
      "metadata": {
        "id": "jU-UnYx1LXyk"
      },
      "execution_count": null,
      "outputs": []
    },
    {
      "cell_type": "code",
      "source": [
        "# 이미지 가로 및 세로 최대 길이, 최소 길이, 평균값, 중앙값, 최빈값\n",
        "print('이미지 가로, 세로')\n",
        "print('최대 길이 :',np.max(arr_w), np.max(arr_h))\n",
        "print('최소 길이 :',np.min(arr_w), np.min(arr_h))\n",
        "print('평균값 :',np.mean(arr_w), np.mean(arr_h))\n",
        "print('중앙값 :',np.median(arr_w), np.median(arr_h))\n",
        "print('최빈값 :',mode(arr_w)[0][0], mode(arr_h)[0][0])"
      ],
      "metadata": {
        "colab": {
          "base_uri": "https://localhost:8080/"
        },
        "id": "rsX-LixDNmdv",
        "outputId": "2c6a7fd9-6043-4263-9a10-d86da62b8f8c"
      },
      "execution_count": null,
      "outputs": [
        {
          "output_type": "stream",
          "name": "stdout",
          "text": [
            "이미지 가로, 세로\n",
            "최대 길이 : 342 917\n",
            "최소 길이 : 20 67\n",
            "평균값 : 75.8203125 290.2421875\n",
            "중앙값 : 63.0 203.0\n",
            "최빈값 : 48 134\n"
          ]
        }
      ]
    },
    {
      "cell_type": "markdown",
      "source": [
        "## 상품번호 길이"
      ],
      "metadata": {
        "id": "LZptDysoS6Iy"
      }
    },
    {
      "cell_type": "markdown",
      "source": [
        "### KDE Plot"
      ],
      "metadata": {
        "id": "2EWHQmBITUz6"
      }
    },
    {
      "cell_type": "code",
      "source": [
        "sns.kdeplot(last_df['product_no_len'])"
      ],
      "metadata": {
        "colab": {
          "base_uri": "https://localhost:8080/",
          "height": 298
        },
        "id": "FjC--rZpQkKg",
        "outputId": "fa42ad32-4cef-43b9-f28c-9f0b37e6d623"
      },
      "execution_count": null,
      "outputs": [
        {
          "output_type": "execute_result",
          "data": {
            "text/plain": [
              "<matplotlib.axes._subplots.AxesSubplot at 0x7f8af402c390>"
            ]
          },
          "metadata": {},
          "execution_count": 634
        },
        {
          "output_type": "display_data",
          "data": {
            "image/png": "[encoded data removed]",
            "text/plain": [
              "<Figure size 432x288 with 1 Axes>"
            ]
          },
          "metadata": {
            "needs_background": "light"
          }
        }
      ]
    },
    {
      "cell_type": "markdown",
      "source": [
        "### 통계치"
      ],
      "metadata": {
        "id": "L-Rtzp-DTTwH"
      }
    },
    {
      "cell_type": "code",
      "source": [
        "arr_len = []\n",
        "for i in last_df['product_no']:\n",
        "    arr_len.append(len(i))"
      ],
      "metadata": {
        "id": "i-6-ecFRJYif"
      },
      "execution_count": null,
      "outputs": []
    },
    {
      "cell_type": "code",
      "source": [
        "# 상품번호 최대 길이, 최소 길이, 평균값, 중앙값, 최빈값\n",
        "print('상품번호')\n",
        "print('최대 길이 :',np.max(arr_len))\n",
        "print('최소 길이 :',np.min(arr_len))\n",
        "print('평균값 :',np.mean(arr_len))\n",
        "print('중앙값 :',np.median(arr_len))\n",
        "print('최빈값 :',mode(arr_len)[0][0])"
      ],
      "metadata": {
        "colab": {
          "base_uri": "https://localhost:8080/"
        },
        "id": "GypG2kK-JAoO",
        "outputId": "1aeacc15-ea63-442d-c72a-7072167cd382"
      },
      "execution_count": null,
      "outputs": [
        {
          "output_type": "stream",
          "name": "stdout",
          "text": [
            "상품번호\n",
            "최대 길이 : 15\n",
            "최소 길이 : 6\n",
            "평균값 : 8.4453125\n",
            "중앙값 : 9.0\n",
            "최빈값 : 10\n"
          ]
        }
      ]
    },
    {
      "cell_type": "markdown",
      "source": [
        "## 이미지 가로, 세로와 상품번호 글자 수"
      ],
      "metadata": {
        "id": "KehSr1pMWQYN"
      }
    },
    {
      "cell_type": "code",
      "source": [
        "sns.jointplot(x=\"image_w\", y=\"product_no_len\", data=last_df)\n",
        "plt.suptitle(\"image weight, product_no_len Joint Plot\", y=1.02)\n",
        "plt.show()"
      ],
      "metadata": {
        "colab": {
          "base_uri": "https://localhost:8080/",
          "height": 461
        },
        "id": "YYwnp8RdWQyx",
        "outputId": "df62e18b-b504-420c-f877-84b604113258"
      },
      "execution_count": null,
      "outputs": [
        {
          "output_type": "display_data",
          "data": {
            "image/png": "[encoded data removed]",
            "text/plain": [
              "<Figure size 432x432 with 3 Axes>"
            ]
          },
          "metadata": {
            "needs_background": "light"
          }
        }
      ]
    },
    {
      "cell_type": "code",
      "source": [
        "sns.jointplot(x=\"image_h\", y=\"product_no_len\", data=last_df)\n",
        "plt.suptitle(\"image height, product_no_len Joint Plot\", y=1.02)\n",
        "plt.show()"
      ],
      "metadata": {
        "colab": {
          "base_uri": "https://localhost:8080/",
          "height": 461
        },
        "id": "UutbkozTWS1J",
        "outputId": "c216bab6-1faa-400a-a444-71b9eef40868"
      },
      "execution_count": null,
      "outputs": [
        {
          "output_type": "display_data",
          "data": {
            "image/png": "[encoded data removed]",
            "text/plain": [
              "<Figure size 432x432 with 3 Axes>"
            ]
          },
          "metadata": {
            "needs_background": "light"
          }
        }
      ]
    }
  ]
}